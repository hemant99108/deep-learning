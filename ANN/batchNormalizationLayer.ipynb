{
  "nbformat": 4,
  "nbformat_minor": 0,
  "metadata": {
    "colab": {
      "provenance": [],
      "authorship_tag": "ABX9TyPWzkpKP8cxfXtKgEg41sht",
      "include_colab_link": true
    },
    "kernelspec": {
      "name": "python3",
      "display_name": "Python 3"
    },
    "language_info": {
      "name": "python"
    }
  },
  "cells": [
    {
      "cell_type": "markdown",
      "metadata": {
        "id": "view-in-github",
        "colab_type": "text"
      },
      "source": [
        "<a href=\"https://colab.research.google.com/github/hemant99108/deep-learning/blob/main/ANN/batchNormalizationLayer.ipynb\" target=\"_parent\"><img src=\"https://colab.research.google.com/assets/colab-badge.svg\" alt=\"Open In Colab\"/></a>"
      ]
    },
    {
      "cell_type": "markdown",
      "source": [
        "# **observe the results before and after the batch normalization**"
      ],
      "metadata": {
        "id": "g7432WxslSdB"
      }
    },
    {
      "cell_type": "markdown",
      "source": [
        "# **before applying batch normalization**"
      ],
      "metadata": {
        "id": "g8cEiiillcC_"
      }
    },
    {
      "cell_type": "code",
      "execution_count": 2,
      "metadata": {
        "id": "DW-G8UkflH8G"
      },
      "outputs": [],
      "source": [
        "#importing the necessary libraries\n",
        "import numpy as np\n",
        "import pandas as pd\n",
        "import os\n",
        "import tensorflow as tf\n",
        "import matplotlib.pyplot as plt\n",
        "import seaborn as sns\n",
        "import time\n",
        "plt.style.use('fivethirtyeight')\n",
        "%load_ext tensorboard"
      ]
    },
    {
      "cell_type": "code",
      "source": [
        "#loading the data of fashion mnist\n",
        "(X_train_full,y_train_full),(X_test,y_test)=tf.keras.datasets.fashion_mnist.load_data()\n",
        "X_train_full=X_train_full/255.0\n",
        "X_test=X_test/255.0\n",
        "\n",
        "X_valid,X_train=X_train_full[:5000],X_train_full[5000:]\n",
        "y_valid,y_train=y_train_full[:5000],y_train_full[5000:]\n",
        "\n"
      ],
      "metadata": {
        "colab": {
          "base_uri": "https://localhost:8080/"
        },
        "id": "dK9nkzkzlQdS",
        "outputId": "d37bafc9-8e63-4aa8-b59e-7328abdf65b2"
      },
      "execution_count": 3,
      "outputs": [
        {
          "output_type": "stream",
          "name": "stdout",
          "text": [
            "Downloading data from https://storage.googleapis.com/tensorflow/tf-keras-datasets/train-labels-idx1-ubyte.gz\n",
            "29515/29515 [==============================] - 0s 0us/step\n",
            "Downloading data from https://storage.googleapis.com/tensorflow/tf-keras-datasets/train-images-idx3-ubyte.gz\n",
            "26421880/26421880 [==============================] - 0s 0us/step\n",
            "Downloading data from https://storage.googleapis.com/tensorflow/tf-keras-datasets/t10k-labels-idx1-ubyte.gz\n",
            "5148/5148 [==============================] - 0s 0us/step\n",
            "Downloading data from https://storage.googleapis.com/tensorflow/tf-keras-datasets/t10k-images-idx3-ubyte.gz\n",
            "4422102/4422102 [==============================] - 0s 0us/step\n"
          ]
        }
      ]
    },
    {
      "cell_type": "code",
      "source": [
        "#creating layers of the model\n",
        "\n",
        "tf.random.set_seed(42) #for getting similar output optional\n",
        "np.random.seed(42) #for getting similar outuput optional\n",
        "\n",
        "LAYERS=[\n",
        "    tf.keras.layers.Flatten(input_shape=[28,28]),\n",
        "    tf.keras.layers.Dense(300,kernel_initializer='he_normal'),\n",
        "    tf.keras.layers.LeakyReLU(),\n",
        "    tf.keras.layers.Dense(100,kernel_initializer='he_normal'),\n",
        "    tf.keras.layers.LeakyReLU(),\n",
        "    tf.keras.layers.Dense(10,activation='softmax')\n",
        "]\n",
        "\n",
        "model=tf.keras.models.Sequential(LAYERS)\n"
      ],
      "metadata": {
        "id": "bkUr6D-ylQgD"
      },
      "execution_count": 4,
      "outputs": []
    },
    {
      "cell_type": "code",
      "source": [
        "#compiling the model\n",
        "\n",
        "model.compile(loss='sparse_categorical_crossentropy',\n",
        "              optimizer=tf.keras.optimizers.SGD(lr=1e-3),\n",
        "              metrics=['accuracy'])"
      ],
      "metadata": {
        "colab": {
          "base_uri": "https://localhost:8080/"
        },
        "id": "VD9dJkwalQi9",
        "outputId": "143caf80-2668-442c-ea65-436bde0cd4be"
      },
      "execution_count": 5,
      "outputs": [
        {
          "output_type": "stream",
          "name": "stderr",
          "text": [
            "WARNING:absl:`lr` is deprecated in Keras optimizer, please use `learning_rate` or use the legacy optimizer, e.g.,tf.keras.optimizers.legacy.SGD.\n"
          ]
        }
      ]
    },
    {
      "cell_type": "code",
      "source": [
        "model.summary()"
      ],
      "metadata": {
        "colab": {
          "base_uri": "https://localhost:8080/"
        },
        "id": "NiZQhoI8lQlq",
        "outputId": "2b0fd4a2-960f-4339-8495-f5a4ee9e8b66"
      },
      "execution_count": 6,
      "outputs": [
        {
          "output_type": "stream",
          "name": "stdout",
          "text": [
            "Model: \"sequential\"\n",
            "_________________________________________________________________\n",
            " Layer (type)                Output Shape              Param #   \n",
            "=================================================================\n",
            " flatten (Flatten)           (None, 784)               0         \n",
            "                                                                 \n",
            " dense (Dense)               (None, 300)               235500    \n",
            "                                                                 \n",
            " leaky_re_lu (LeakyReLU)     (None, 300)               0         \n",
            "                                                                 \n",
            " dense_1 (Dense)             (None, 100)               30100     \n",
            "                                                                 \n",
            " leaky_re_lu_1 (LeakyReLU)   (None, 100)               0         \n",
            "                                                                 \n",
            " dense_2 (Dense)             (None, 10)                1010      \n",
            "                                                                 \n",
            "=================================================================\n",
            "Total params: 266610 (1.02 MB)\n",
            "Trainable params: 266610 (1.02 MB)\n",
            "Non-trainable params: 0 (0.00 Byte)\n",
            "_________________________________________________________________\n"
          ]
        }
      ]
    },
    {
      "cell_type": "code",
      "source": [
        "#now training and calculating the trainning time\n",
        "\n",
        "#starting time\n",
        "\n",
        "start=time.time()\n",
        "\n",
        "history=model.fit(X_train,y_train,epochs=10,\n",
        "                  validation_data=(X_valid,y_valid),verbose=2)\n",
        "\n",
        "end=time.time()\n",
        "\n",
        "#totall time taken\n",
        "print(f'runtime of the program is {end-start}')"
      ],
      "metadata": {
        "colab": {
          "base_uri": "https://localhost:8080/"
        },
        "id": "qhgPJ5C3lQoe",
        "outputId": "55cc74c2-272a-4c07-a647-15bc1804031a"
      },
      "execution_count": 7,
      "outputs": [
        {
          "output_type": "stream",
          "name": "stdout",
          "text": [
            "Epoch 1/10\n",
            "1719/1719 - 8s - loss: 0.7101 - accuracy: 0.7611 - val_loss: 0.5224 - val_accuracy: 0.8264 - 8s/epoch - 4ms/step\n",
            "Epoch 2/10\n",
            "1719/1719 - 7s - loss: 0.4930 - accuracy: 0.8284 - val_loss: 0.4415 - val_accuracy: 0.8520 - 7s/epoch - 4ms/step\n",
            "Epoch 3/10\n",
            "1719/1719 - 7s - loss: 0.4497 - accuracy: 0.8432 - val_loss: 0.5595 - val_accuracy: 0.7948 - 7s/epoch - 4ms/step\n",
            "Epoch 4/10\n",
            "1719/1719 - 7s - loss: 0.4262 - accuracy: 0.8514 - val_loss: 0.4066 - val_accuracy: 0.8626 - 7s/epoch - 4ms/step\n",
            "Epoch 5/10\n",
            "1719/1719 - 6s - loss: 0.4102 - accuracy: 0.8567 - val_loss: 0.3922 - val_accuracy: 0.8624 - 6s/epoch - 4ms/step\n",
            "Epoch 6/10\n",
            "1719/1719 - 8s - loss: 0.3936 - accuracy: 0.8624 - val_loss: 0.3855 - val_accuracy: 0.8700 - 8s/epoch - 4ms/step\n",
            "Epoch 7/10\n",
            "1719/1719 - 7s - loss: 0.3830 - accuracy: 0.8661 - val_loss: 0.3841 - val_accuracy: 0.8710 - 7s/epoch - 4ms/step\n",
            "Epoch 8/10\n",
            "1719/1719 - 7s - loss: 0.3730 - accuracy: 0.8670 - val_loss: 0.3989 - val_accuracy: 0.8612 - 7s/epoch - 4ms/step\n",
            "Epoch 9/10\n",
            "1719/1719 - 8s - loss: 0.3640 - accuracy: 0.8729 - val_loss: 0.3708 - val_accuracy: 0.8694 - 8s/epoch - 4ms/step\n",
            "Epoch 10/10\n",
            "1719/1719 - 6s - loss: 0.3556 - accuracy: 0.8747 - val_loss: 0.3695 - val_accuracy: 0.8676 - 6s/epoch - 4ms/step\n",
            "runtime of the program is 71.02088904380798\n"
          ]
        }
      ]
    },
    {
      "cell_type": "markdown",
      "source": [
        "# **runtime of the program is 82.44831538200378**\n",
        "\n",
        "# **accuracy: 0.8945**"
      ],
      "metadata": {
        "id": "Y5KLujo3uqVz"
      }
    },
    {
      "cell_type": "code",
      "source": [
        "#delete the previous model\n",
        "del model\n"
      ],
      "metadata": {
        "id": "d7PszJEylQrO"
      },
      "execution_count": 8,
      "outputs": []
    },
    {
      "cell_type": "code",
      "source": [
        "#defining the new model with batch normalization\n",
        "LAYERS_BN=[\n",
        "    tf.keras.layers.Flatten(input_shape=[28,28]),\n",
        "    tf.keras.layers.BatchNormalization(),\n",
        "    tf.keras.layers.Dense(300,activation='relu'),\n",
        "    tf.keras.layers.BatchNormalization(),\n",
        "    tf.keras.layers.Dense(100,activation='relu'),\n",
        "    tf.keras.layers.BatchNormalization(),\n",
        "    tf.keras.layers.Dense(10,activation='softmax')\n",
        "]\n",
        "\n",
        "\n",
        "model=tf.keras.models.Sequential(LAYERS_BN)"
      ],
      "metadata": {
        "id": "SSFjfPuJlQuK"
      },
      "execution_count": 9,
      "outputs": []
    },
    {
      "cell_type": "code",
      "source": [
        "model.summary()"
      ],
      "metadata": {
        "colab": {
          "base_uri": "https://localhost:8080/"
        },
        "id": "4VSl2yc7lQxL",
        "outputId": "721f37da-52ea-4714-ecd7-7eca423fa2ba"
      },
      "execution_count": 10,
      "outputs": [
        {
          "output_type": "stream",
          "name": "stdout",
          "text": [
            "Model: \"sequential_1\"\n",
            "_________________________________________________________________\n",
            " Layer (type)                Output Shape              Param #   \n",
            "=================================================================\n",
            " flatten_1 (Flatten)         (None, 784)               0         \n",
            "                                                                 \n",
            " batch_normalization (Batch  (None, 784)               3136      \n",
            " Normalization)                                                  \n",
            "                                                                 \n",
            " dense_3 (Dense)             (None, 300)               235500    \n",
            "                                                                 \n",
            " batch_normalization_1 (Bat  (None, 300)               1200      \n",
            " chNormalization)                                                \n",
            "                                                                 \n",
            " dense_4 (Dense)             (None, 100)               30100     \n",
            "                                                                 \n",
            " batch_normalization_2 (Bat  (None, 100)               400       \n",
            " chNormalization)                                                \n",
            "                                                                 \n",
            " dense_5 (Dense)             (None, 10)                1010      \n",
            "                                                                 \n",
            "=================================================================\n",
            "Total params: 271346 (1.04 MB)\n",
            "Trainable params: 268978 (1.03 MB)\n",
            "Non-trainable params: 2368 (9.25 KB)\n",
            "_________________________________________________________________\n"
          ]
        }
      ]
    },
    {
      "cell_type": "code",
      "source": [
        "bn1=model.layers[1]"
      ],
      "metadata": {
        "id": "E2toOxxNlQ0L"
      },
      "execution_count": 11,
      "outputs": []
    },
    {
      "cell_type": "code",
      "source": [
        "for variable in bn1.variables:\n",
        "  print(variable.name,variable.trainable)"
      ],
      "metadata": {
        "colab": {
          "base_uri": "https://localhost:8080/"
        },
        "id": "X0NQHd_klQ2y",
        "outputId": "6640eaf0-be84-4eb5-a0c2-9ad37a3ddb5d"
      },
      "execution_count": 12,
      "outputs": [
        {
          "output_type": "stream",
          "name": "stdout",
          "text": [
            "batch_normalization/gamma:0 True\n",
            "batch_normalization/beta:0 True\n",
            "batch_normalization/moving_mean:0 False\n",
            "batch_normalization/moving_variance:0 False\n"
          ]
        }
      ]
    },
    {
      "cell_type": "code",
      "source": [
        "model.compile(loss='sparse_categorical_crossentropy',\n",
        "              optimizer=tf.keras.optimizers.SGD(lr=1e-3),\n",
        "               metrics=['accuracy'])"
      ],
      "metadata": {
        "colab": {
          "base_uri": "https://localhost:8080/"
        },
        "id": "_-BrZ1xPlQ6G",
        "outputId": "8dc61d85-105b-4b13-b9f1-512fdd91f47b"
      },
      "execution_count": 13,
      "outputs": [
        {
          "output_type": "stream",
          "name": "stderr",
          "text": [
            "WARNING:absl:`lr` is deprecated in Keras optimizer, please use `learning_rate` or use the legacy optimizer, e.g.,tf.keras.optimizers.legacy.SGD.\n"
          ]
        }
      ]
    },
    {
      "cell_type": "code",
      "source": [
        "#now train and calculate the training time\n",
        "\n",
        "#starting time\n",
        "start=time.time()\n",
        "\n",
        "history=model.fit(X_train,y_train,epochs=10,\n",
        "                  validation_data=(X_valid,y_valid),verbose=2)\n",
        "\n",
        "#ending time\n",
        "end=time.time()\n",
        "\n",
        "#total time taken\n",
        "print(f'total runtime taken is {end-start}')"
      ],
      "metadata": {
        "colab": {
          "base_uri": "https://localhost:8080/"
        },
        "id": "UkdGzlpqlQ_H",
        "outputId": "12d5201c-76b5-4d14-c58c-261f43e80e15"
      },
      "execution_count": 14,
      "outputs": [
        {
          "output_type": "stream",
          "name": "stdout",
          "text": [
            "Epoch 1/10\n",
            "1719/1719 - 12s - loss: 0.5310 - accuracy: 0.8152 - val_loss: 0.3887 - val_accuracy: 0.8670 - 12s/epoch - 7ms/step\n",
            "Epoch 2/10\n",
            "1719/1719 - 10s - loss: 0.3923 - accuracy: 0.8591 - val_loss: 0.3504 - val_accuracy: 0.8744 - 10s/epoch - 6ms/step\n",
            "Epoch 3/10\n",
            "1719/1719 - 10s - loss: 0.3537 - accuracy: 0.8727 - val_loss: 0.3412 - val_accuracy: 0.8796 - 10s/epoch - 6ms/step\n",
            "Epoch 4/10\n",
            "1719/1719 - 11s - loss: 0.3247 - accuracy: 0.8818 - val_loss: 0.3246 - val_accuracy: 0.8844 - 11s/epoch - 6ms/step\n",
            "Epoch 5/10\n",
            "1719/1719 - 13s - loss: 0.3049 - accuracy: 0.8889 - val_loss: 0.3080 - val_accuracy: 0.8926 - 13s/epoch - 8ms/step\n",
            "Epoch 6/10\n",
            "1719/1719 - 12s - loss: 0.2889 - accuracy: 0.8949 - val_loss: 0.3130 - val_accuracy: 0.8890 - 12s/epoch - 7ms/step\n",
            "Epoch 7/10\n",
            "1719/1719 - 11s - loss: 0.2744 - accuracy: 0.8992 - val_loss: 0.3105 - val_accuracy: 0.8898 - 11s/epoch - 7ms/step\n",
            "Epoch 8/10\n",
            "1719/1719 - 11s - loss: 0.2625 - accuracy: 0.9044 - val_loss: 0.3146 - val_accuracy: 0.8870 - 11s/epoch - 7ms/step\n",
            "Epoch 9/10\n",
            "1719/1719 - 10s - loss: 0.2488 - accuracy: 0.9079 - val_loss: 0.3109 - val_accuracy: 0.8890 - 10s/epoch - 6ms/step\n",
            "Epoch 10/10\n",
            "1719/1719 - 11s - loss: 0.2377 - accuracy: 0.9122 - val_loss: 0.3006 - val_accuracy: 0.8914 - 11s/epoch - 6ms/step\n",
            "total runtime taken is 143.78139734268188\n"
          ]
        }
      ]
    },
    {
      "cell_type": "markdown",
      "source": [
        "# ***runtime of the program is 143.8s1***\n",
        "\n",
        "# **accuracy is 0.89**\n",
        "# note: as we can see that although it has been taken a long time due to some extra parameter added but it has improved the acccuracy score after applying BN in big problems it performs more"
      ],
      "metadata": {
        "id": "s58AmmD9nuMq"
      }
    },
    {
      "cell_type": "code",
      "source": [],
      "metadata": {
        "id": "Kd6ZyESOlRBu"
      },
      "execution_count": 10,
      "outputs": []
    },
    {
      "cell_type": "code",
      "source": [],
      "metadata": {
        "id": "gGQUjj0-lRJM"
      },
      "execution_count": 10,
      "outputs": []
    },
    {
      "cell_type": "code",
      "source": [],
      "metadata": {
        "id": "roAYm1-blRMn"
      },
      "execution_count": 10,
      "outputs": []
    },
    {
      "cell_type": "code",
      "source": [],
      "metadata": {
        "id": "NsqMy3S8lRPz"
      },
      "execution_count": 10,
      "outputs": []
    },
    {
      "cell_type": "code",
      "source": [],
      "metadata": {
        "id": "g2Qr3tBblRSn"
      },
      "execution_count": 10,
      "outputs": []
    }
  ]
}