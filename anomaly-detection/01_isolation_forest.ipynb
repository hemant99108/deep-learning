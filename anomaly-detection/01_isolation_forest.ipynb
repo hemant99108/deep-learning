{
 "cells": [
  {
   "cell_type": "markdown",
   "id": "ead693ae",
   "metadata": {},
   "source": [
    "# isolation forest anomaly detection "
   ]
  },
  {
   "cell_type": "code",
   "execution_count": 1,
   "id": "c254db0f",
   "metadata": {},
   "outputs": [
    {
     "data": {
      "text/html": [
       "<div>\n",
       "<style scoped>\n",
       "    .dataframe tbody tr th:only-of-type {\n",
       "        vertical-align: middle;\n",
       "    }\n",
       "\n",
       "    .dataframe tbody tr th {\n",
       "        vertical-align: top;\n",
       "    }\n",
       "\n",
       "    .dataframe thead th {\n",
       "        text-align: right;\n",
       "    }\n",
       "</style>\n",
       "<table border=\"1\" class=\"dataframe\">\n",
       "  <thead>\n",
       "    <tr style=\"text-align: right;\">\n",
       "      <th></th>\n",
       "      <th>0</th>\n",
       "      <th>1</th>\n",
       "    </tr>\n",
       "  </thead>\n",
       "  <tbody>\n",
       "    <tr>\n",
       "      <th>0</th>\n",
       "      <td>1.616671</td>\n",
       "      <td>1.944522</td>\n",
       "    </tr>\n",
       "    <tr>\n",
       "      <th>1</th>\n",
       "      <td>1.256461</td>\n",
       "      <td>1.609444</td>\n",
       "    </tr>\n",
       "    <tr>\n",
       "      <th>2</th>\n",
       "      <td>-2.343919</td>\n",
       "      <td>4.392961</td>\n",
       "    </tr>\n",
       "    <tr>\n",
       "      <th>3</th>\n",
       "      <td>1.195393</td>\n",
       "      <td>2.794485</td>\n",
       "    </tr>\n",
       "    <tr>\n",
       "      <th>4</th>\n",
       "      <td>-3.329586</td>\n",
       "      <td>5.303160</td>\n",
       "    </tr>\n",
       "  </tbody>\n",
       "</table>\n",
       "</div>"
      ],
      "text/plain": [
       "          0         1\n",
       "0  1.616671  1.944522\n",
       "1  1.256461  1.609444\n",
       "2 -2.343919  4.392961\n",
       "3  1.195393  2.794485\n",
       "4 -3.329586  5.303160"
      ]
     },
     "execution_count": 1,
     "metadata": {},
     "output_type": "execute_result"
    }
   ],
   "source": [
    "import pandas as pd \n",
    "df=pd.read_csv('healthcare.csv')\n",
    "df.head()"
   ]
  },
  {
   "cell_type": "code",
   "execution_count": 4,
   "id": "9a32fc93",
   "metadata": {},
   "outputs": [
    {
     "data": {
      "text/plain": [
       "<matplotlib.collections.PathCollection at 0x23ce2ae6290>"
      ]
     },
     "execution_count": 4,
     "metadata": {},
     "output_type": "execute_result"
    },
    {
     "data": {
      "image/png": "[encoded data removed]",
      "text/plain": [
       "<Figure size 640x480 with 1 Axes>"
      ]
     },
     "metadata": {},
     "output_type": "display_data"
    }
   ],
   "source": [
    "import matplotlib.pyplot as plt\n",
    "plt.scatter(df.iloc[:,0],df.iloc[:,1])\n",
    "#you can see the outliers and the actual datapoints are coagulated together "
   ]
  },
  {
   "cell_type": "markdown",
   "id": "c7704e6c",
   "metadata": {},
   "source": [
    "# import the isolation forest "
   ]
  },
  {
   "cell_type": "code",
   "execution_count": 5,
   "id": "dc673914",
   "metadata": {},
   "outputs": [],
   "source": [
    "from sklearn.ensemble import IsolationForest"
   ]
  },
  {
   "cell_type": "code",
   "execution_count": 7,
   "id": "7695574d",
   "metadata": {},
   "outputs": [],
   "source": [
    "clf=IsolationForest(contamination=0.4) #basically contamination is considered as threshold value -->above it will be outliers \n",
    "clf.fit(df)\n",
    "predictions=clf.predict(df)\n"
   ]
  },
  {
   "cell_type": "code",
   "execution_count": 11,
   "id": "ac228991",
   "metadata": {},
   "outputs": [
    {
     "data": {
      "text/plain": [
       "array([ 1,  1,  1, -1, -1,  1,  1,  1,  1,  1,  1,  1,  1,  1,  1,  1,  1,\n",
       "        1, -1,  1, -1,  1,  1,  1, -1,  1,  1,  1,  1, -1,  1, -1,  1,  1,\n",
       "       -1,  1,  1,  1,  1,  1, -1,  1,  1, -1,  1, -1,  1,  1, -1, -1,  1,\n",
       "        1, -1, -1,  1, -1,  1,  1,  1, -1, -1, -1, -1, -1,  1,  1,  1, -1,\n",
       "       -1,  1, -1, -1, -1,  1, -1,  1,  1, -1, -1,  1, -1,  1,  1, -1, -1,\n",
       "       -1,  1, -1,  1, -1, -1,  1, -1,  1,  1,  1,  1, -1,  1,  1,  1,  1,\n",
       "        1,  1, -1,  1,  1,  1, -1, -1,  1,  1,  1,  1, -1,  1,  1, -1, -1,\n",
       "       -1, -1,  1,  1,  1,  1,  1, -1, -1,  1,  1, -1, -1, -1, -1, -1,  1,\n",
       "        1, -1,  1,  1,  1, -1,  1,  1,  1,  1,  1,  1,  1,  1,  1, -1,  1,\n",
       "       -1,  1, -1,  1,  1,  1,  1, -1,  1,  1,  1, -1,  1, -1, -1, -1,  1,\n",
       "       -1,  1,  1, -1,  1,  1, -1, -1,  1, -1,  1, -1, -1,  1,  1,  1,  1,\n",
       "       -1,  1,  1, -1,  1, -1,  1, -1,  1,  1, -1, -1, -1, -1,  1,  1,  1,\n",
       "       -1, -1,  1,  1,  1, -1,  1,  1, -1, -1, -1,  1,  1, -1,  1, -1, -1,\n",
       "       -1,  1,  1, -1,  1,  1, -1, -1,  1,  1,  1,  1,  1,  1,  1,  1, -1,\n",
       "       -1, -1,  1,  1, -1, -1, -1,  1, -1, -1, -1,  1])"
      ]
     },
     "execution_count": 11,
     "metadata": {},
     "output_type": "execute_result"
    }
   ],
   "source": [
    "predictions  #-1==outliers 1 ==normal datapoints "
   ]
  },
  {
   "cell_type": "code",
   "execution_count": 12,
   "id": "8597f9e7",
   "metadata": {},
   "outputs": [
    {
     "data": {
      "text/plain": [
       "(array([  3,   4,  18,  20,  24,  29,  31,  34,  40,  43,  45,  48,  49,\n",
       "         52,  53,  55,  59,  60,  61,  62,  63,  67,  68,  70,  71,  72,\n",
       "         74,  77,  78,  80,  83,  84,  85,  87,  89,  90,  92,  97, 104,\n",
       "        108, 109, 114, 117, 118, 119, 120, 126, 127, 130, 131, 132, 133,\n",
       "        134, 137, 141, 151, 153, 155, 160, 164, 166, 167, 168, 170, 173,\n",
       "        176, 177, 179, 181, 182, 187, 190, 192, 194, 197, 198, 199, 200,\n",
       "        204, 205, 209, 212, 213, 214, 217, 219, 220, 221, 224, 227, 228,\n",
       "        237, 238, 239, 242, 243, 244, 246, 247, 248], dtype=int64),)"
      ]
     },
     "execution_count": 12,
     "metadata": {},
     "output_type": "execute_result"
    }
   ],
   "source": [
    "import numpy as np \n",
    "index=np.where(predictions<0)  #all outliers indexing \n",
    "index"
   ]
  },
  {
   "cell_type": "code",
   "execution_count": 13,
   "id": "b287b8dc",
   "metadata": {},
   "outputs": [],
   "source": [
    "x=df.values"
   ]
  },
  {
   "cell_type": "code",
   "execution_count": null,
   "id": "988d0845",
   "metadata": {},
   "outputs": [],
   "source": [
    "index=np.where(predictions<0)\n",
    "plt.scatter(df.iloc[:,0],df.iloc[:,1])\n",
    "plt.scatter(x[index,0],x[index,1],edgecolor='r')"
   ]
  },
  {
   "cell_type": "code",
   "execution_count": null,
   "id": "6a3e6ece",
   "metadata": {},
   "outputs": [],
   "source": []
  },
  {
   "cell_type": "code",
   "execution_count": null,
   "id": "0e0feb5d",
   "metadata": {},
   "outputs": [],
   "source": []
  },
  {
   "cell_type": "code",
   "execution_count": null,
   "id": "98e4b174",
   "metadata": {},
   "outputs": [],
   "source": []
  },
  {
   "cell_type": "code",
   "execution_count": null,
   "id": "f92bd986",
   "metadata": {},
   "outputs": [],
   "source": []
  },
  {
   "cell_type": "code",
   "execution_count": null,
   "id": "c180f7c2",
   "metadata": {},
   "outputs": [],
   "source": []
  },
  {
   "cell_type": "code",
   "execution_count": null,
   "id": "7939455d",
   "metadata": {},
   "outputs": [],
   "source": []
  },
  {
   "cell_type": "code",
   "execution_count": null,
   "id": "98f0c3ce",
   "metadata": {},
   "outputs": [],
   "source": []
  },
  {
   "cell_type": "code",
   "execution_count": null,
   "id": "8f8904dc",
   "metadata": {},
   "outputs": [],
   "source": []
  },
  {
   "cell_type": "code",
   "execution_count": null,
   "id": "bf0e7653",
   "metadata": {},
   "outputs": [],
   "source": []
  },
  {
   "cell_type": "code",
   "execution_count": null,
   "id": "a227cefd",
   "metadata": {},
   "outputs": [],
   "source": []
  },
  {
   "cell_type": "code",
   "execution_count": null,
   "id": "e2e13ed5",
   "metadata": {},
   "outputs": [],
   "source": []
  },
  {
   "cell_type": "code",
   "execution_count": null,
   "id": "d42cd985",
   "metadata": {},
   "outputs": [],
   "source": []
  },
  {
   "cell_type": "code",
   "execution_count": null,
   "id": "427fdb93",
   "metadata": {},
   "outputs": [],
   "source": []
  },
  {
   "cell_type": "code",
   "execution_count": null,
   "id": "cbd81a27",
   "metadata": {},
   "outputs": [],
   "source": []
  }
 ],
 "metadata": {
  "kernelspec": {
   "display_name": "Python 3 (ipykernel)",
   "language": "python",
   "name": "python3"
  },
  "language_info": {
   "codemirror_mode": {
    "name": "ipython",
    "version": 3
   },
   "file_extension": ".py",
   "mimetype": "text/x-python",
   "name": "python",
   "nbconvert_exporter": "python",
   "pygments_lexer": "ipython3",
   "version": "3.11.0"
  }
 },
 "nbformat": 4,
 "nbformat_minor": 5
}
